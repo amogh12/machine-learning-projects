{
 "cells": [
  {
   "cell_type": "code",
   "execution_count": 131,
   "metadata": {},
   "outputs": [],
   "source": [
    "import torch\n",
    "import torch.nn as nn\n",
    "import torch.nn.functional as F\n",
    "from torch.utils.data import DataLoader\n",
    "from torchvision import datasets, transforms\n",
    "from torchvision.utils import make_grid\n",
    "\n",
    "import numpy as np\n",
    "import pandas as pd\n",
    "from sklearn.metrics import confusion_matrix\n",
    "import matplotlib.pyplot as plt"
   ]
  },
  {
   "cell_type": "code",
   "execution_count": 132,
   "metadata": {},
   "outputs": [],
   "source": [
    "transform = transforms.ToTensor()"
   ]
  },
  {
   "cell_type": "code",
   "execution_count": 133,
   "metadata": {},
   "outputs": [],
   "source": [
    "train_data = datasets.MNIST(root='/cnn_data', train=True, download=True, transform=transform)"
   ]
  },
  {
   "cell_type": "code",
   "execution_count": 134,
   "metadata": {},
   "outputs": [],
   "source": [
    "test_data = datasets.MNIST(root='/cnn_data', train=False, download=True, transform=transform)"
   ]
  },
  {
   "cell_type": "code",
   "execution_count": 135,
   "metadata": {},
   "outputs": [
    {
     "data": {
      "text/plain": [
       "Dataset MNIST\n",
       "    Number of datapoints: 60000\n",
       "    Root location: /cnn_data\n",
       "    Split: Train\n",
       "    StandardTransform\n",
       "Transform: ToTensor()"
      ]
     },
     "execution_count": 135,
     "metadata": {},
     "output_type": "execute_result"
    }
   ],
   "source": [
    "train_data"
   ]
  },
  {
   "cell_type": "code",
   "execution_count": 136,
   "metadata": {},
   "outputs": [],
   "source": [
    "# Create a small batch size for images...let's say 10\n",
    "train_loader = DataLoader(train_data, batch_size=10, shuffle=True)\n",
    "test_loader = DataLoader(test_data, batch_size=10, shuffle=False)"
   ]
  },
  {
   "cell_type": "code",
   "execution_count": 137,
   "metadata": {},
   "outputs": [
    {
     "name": "stdout",
     "output_type": "stream",
     "text": [
      "Feature batch shape: torch.Size([10, 1, 28, 28]) torch.Size([10, 1, 28, 28])\n",
      "Labels batch shape: torch.Size([10])\n"
     ]
    },
    {
     "data": {
      "image/png": "[encoded data removed]",
      "text/plain": [
       "<Figure size 640x480 with 1 Axes>"
      ]
     },
     "metadata": {},
     "output_type": "display_data"
    },
    {
     "name": "stdout",
     "output_type": "stream",
     "text": [
      "Label: 1\n"
     ]
    }
   ],
   "source": [
    "train_features, train_labels = next(iter(train_loader))\n",
    "print(f\"Feature batch shape: {train_features.size()} {train_features.shape}\")\n",
    "print(f\"Labels batch shape: {train_labels.size()}\")\n",
    "\n",
    "img = train_features[0].squeeze()\n",
    "label = train_labels[0]\n",
    "plt.imshow(img, cmap=\"gray\")\n",
    "plt.show()\n",
    "print(f\"Label: {label}\")"
   ]
  },
  {
   "cell_type": "code",
   "execution_count": 138,
   "metadata": {},
   "outputs": [],
   "source": [
    "import torch.nn as nn\n",
    "import torch.nn.functional as F\n",
    "class ConvolutionNetwork(nn.Module):\n",
    "    def __init__(self):\n",
    "        super(ConvolutionNetwork, self).__init__()\n",
    "        self.conv1 = nn.Conv2d(1, 6, 3, 1)\n",
    "        self.pool = nn.MaxPool2d(2, 2)\n",
    "        self.conv2 = nn.Conv2d(6, 16, 3, 1)\n",
    "        self.fc1 = nn.Linear(400, 120)\n",
    "        self.fc2 = nn.Linear(120, 84)\n",
    "        self.fc3 = nn.Linear(84, 10)  # 10 because of 10 classes \n",
    "\n",
    "    def forward(self, x):\n",
    "        x = self.pool(F.relu(self.conv1(x)))\n",
    "        x = self.pool(F.relu(self.conv2(x)))\n",
    "        x = x.view(-1, 400)\n",
    "        x = F.relu(self.fc1(x))\n",
    "        x = F.relu(self.fc2(x))\n",
    "        x = self.fc3(x)\n",
    "        return F.log_softmax(x, dim=1)"
   ]
  },
  {
   "cell_type": "code",
   "execution_count": 139,
   "metadata": {},
   "outputs": [],
   "source": [
    "# import torch.nn as nn\n",
    "# import torch.nn.functional as F\n",
    "# class ConvolutionNetwork(nn.Module):\n",
    "#     def __init__(self):\n",
    "#         super().__init__()\n",
    "#         self.conv1 = nn.Conv2d(1,6,3,1)\n",
    "#         self.conv2 = nn.Conv2d(6,16,3,1)\n",
    "\n",
    "#             # Fully Connected Layer\n",
    "#         self.fc1 = nn.Linear(400, 120)\n",
    "#         self.fc2 = nn.Linear(120, 84)\n",
    "#         self.fc3 = nn.Linear(84, 10)\n",
    "\n",
    "#     def forward(self, X):\n",
    "#         X = F.relu(self.conv1(X))\n",
    "#         X = F.max_pool2d(X,2,2) # 2x2 kernal and stride 2\n",
    "#         # Second Pass\n",
    "#         X = F.relu(self.conv2(X))\n",
    "#         X = F.max_pool2d(X,2,2) # 2x2 kernal and stride 2\n",
    "\n",
    "#         # Re-View to flatten it out\n",
    "#         X = X.view(-1, 400) # negative one so that we can vary the batch size\n",
    "\n",
    "#         # Fully Connected Layers\n",
    "#         X = F.relu(self.fc1(X))\n",
    "#         X = F.relu(self.fc2(X))\n",
    "#         X = self.fc3(X)\n",
    "#         return F.log_softmax(X, dim=1)"
   ]
  },
  {
   "cell_type": "code",
   "execution_count": 140,
   "metadata": {},
   "outputs": [
    {
     "data": {
      "text/plain": [
       "ConvolutionNetwork(\n",
       "  (conv1): Conv2d(1, 6, kernel_size=(3, 3), stride=(1, 1))\n",
       "  (pool): MaxPool2d(kernel_size=2, stride=2, padding=0, dilation=1, ceil_mode=False)\n",
       "  (conv2): Conv2d(6, 16, kernel_size=(3, 3), stride=(1, 1))\n",
       "  (fc1): Linear(in_features=400, out_features=120, bias=True)\n",
       "  (fc2): Linear(in_features=120, out_features=84, bias=True)\n",
       "  (fc3): Linear(in_features=84, out_features=10, bias=True)\n",
       ")"
      ]
     },
     "execution_count": 140,
     "metadata": {},
     "output_type": "execute_result"
    }
   ],
   "source": [
    "torch.manual_seed(41)\n",
    "model = ConvolutionNetwork()\n",
    "model"
   ]
  },
  {
   "cell_type": "code",
   "execution_count": 141,
   "metadata": {},
   "outputs": [
    {
     "data": {
      "text/plain": [
       "==========================================================================================\n",
       "Layer (type:depth-idx)                   Output Shape              Param #\n",
       "==========================================================================================\n",
       "ConvolutionNetwork                       [1, 10]                   --\n",
       "├─Conv2d: 1-1                            [1, 6, 26, 26]            60\n",
       "├─MaxPool2d: 1-2                         [1, 6, 13, 13]            --\n",
       "├─Conv2d: 1-3                            [1, 16, 11, 11]           880\n",
       "├─MaxPool2d: 1-4                         [1, 16, 5, 5]             --\n",
       "├─Linear: 1-5                            [1, 120]                  48,120\n",
       "├─Linear: 1-6                            [1, 84]                   10,164\n",
       "├─Linear: 1-7                            [1, 10]                   850\n",
       "==========================================================================================\n",
       "Total params: 60,074\n",
       "Trainable params: 60,074\n",
       "Non-trainable params: 0\n",
       "Total mult-adds (M): 0.21\n",
       "==========================================================================================\n",
       "Input size (MB): 0.00\n",
       "Forward/backward pass size (MB): 0.05\n",
       "Params size (MB): 0.24\n",
       "Estimated Total Size (MB): 0.29\n",
       "=========================================================================================="
      ]
     },
     "execution_count": 141,
     "metadata": {},
     "output_type": "execute_result"
    }
   ],
   "source": [
    "\n",
    "import torchinfo\n",
    "from torchinfo import summary\n",
    "\n",
    "summary(model, input_size=[1, 1, 28, 28])"
   ]
  },
  {
   "cell_type": "code",
   "execution_count": null,
   "metadata": {},
   "outputs": [],
   "source": []
  },
  {
   "cell_type": "code",
   "execution_count": 142,
   "metadata": {},
   "outputs": [],
   "source": [
    "# loss funcitn \n",
    "criterion = nn.CrossEntropyLoss()\n",
    "optimizer = torch.optim.Adam(model.parameters(), lr=0.001)"
   ]
  },
  {
   "cell_type": "code",
   "execution_count": 143,
   "metadata": {},
   "outputs": [
    {
     "name": "stdout",
     "output_type": "stream",
     "text": [
      "Epoch: 0 | Batch: 600 | Loss: 0.5418\n",
      "Epoch: 0 | Batch: 1200 | Loss: 0.2202\n",
      "Epoch: 0 | Batch: 1800 | Loss: 0.1758\n",
      "Epoch: 0 | Batch: 2400 | Loss: 0.0030\n",
      "Epoch: 0 | Batch: 3000 | Loss: 0.0172\n",
      "Epoch: 0 | Batch: 3600 | Loss: 0.0020\n",
      "Epoch: 0 | Batch: 4200 | Loss: 0.0151\n",
      "Epoch: 0 | Batch: 4800 | Loss: 0.6768\n",
      "Epoch: 0 | Batch: 5400 | Loss: 0.0016\n",
      "Epoch: 0 | Batch: 6000 | Loss: 0.1879\n",
      "Epoch: 1 | Batch: 600 | Loss: 0.0291\n",
      "Epoch: 1 | Batch: 1200 | Loss: 0.0065\n",
      "Epoch: 1 | Batch: 1800 | Loss: 0.0046\n",
      "Epoch: 1 | Batch: 2400 | Loss: 0.0184\n",
      "Epoch: 1 | Batch: 3000 | Loss: 0.3671\n",
      "Epoch: 1 | Batch: 3600 | Loss: 0.0107\n",
      "Epoch: 1 | Batch: 4200 | Loss: 0.0054\n",
      "Epoch: 1 | Batch: 4800 | Loss: 0.0013\n",
      "Epoch: 1 | Batch: 5400 | Loss: 0.2262\n",
      "Epoch: 1 | Batch: 6000 | Loss: 0.1042\n",
      "Epoch: 2 | Batch: 600 | Loss: 0.0002\n",
      "Epoch: 2 | Batch: 1200 | Loss: 0.0002\n",
      "Epoch: 2 | Batch: 1800 | Loss: 0.3406\n",
      "Epoch: 2 | Batch: 2400 | Loss: 0.0010\n",
      "Epoch: 2 | Batch: 3000 | Loss: 0.0003\n",
      "Epoch: 2 | Batch: 3600 | Loss: 0.0007\n",
      "Epoch: 2 | Batch: 4200 | Loss: 0.0310\n",
      "Epoch: 2 | Batch: 4800 | Loss: 1.0107\n",
      "Epoch: 2 | Batch: 5400 | Loss: 0.0008\n",
      "Epoch: 2 | Batch: 6000 | Loss: 0.0014\n",
      "Epoch: 3 | Batch: 600 | Loss: 0.2795\n",
      "Epoch: 3 | Batch: 1200 | Loss: 0.0001\n",
      "Epoch: 3 | Batch: 1800 | Loss: 0.0001\n",
      "Epoch: 3 | Batch: 2400 | Loss: 0.0236\n",
      "Epoch: 3 | Batch: 3000 | Loss: 0.0052\n",
      "Epoch: 3 | Batch: 3600 | Loss: 0.0036\n",
      "Epoch: 3 | Batch: 4200 | Loss: 0.0004\n",
      "Epoch: 3 | Batch: 4800 | Loss: 0.1362\n",
      "Epoch: 3 | Batch: 5400 | Loss: 0.0045\n",
      "Epoch: 3 | Batch: 6000 | Loss: 0.0003\n",
      "Epoch: 4 | Batch: 600 | Loss: 0.0000\n",
      "Epoch: 4 | Batch: 1200 | Loss: 0.0026\n",
      "Epoch: 4 | Batch: 1800 | Loss: 0.0030\n",
      "Epoch: 4 | Batch: 2400 | Loss: 0.0014\n",
      "Epoch: 4 | Batch: 3000 | Loss: 0.0003\n",
      "Epoch: 4 | Batch: 3600 | Loss: 0.0003\n",
      "Epoch: 4 | Batch: 4200 | Loss: 0.0034\n",
      "Epoch: 4 | Batch: 4800 | Loss: 0.0034\n",
      "Epoch: 4 | Batch: 5400 | Loss: 0.0013\n",
      "Epoch: 4 | Batch: 6000 | Loss: 0.0000\n"
     ]
    }
   ],
   "source": [
    "epochs = 5\n",
    "\n",
    "train_losses = []\n",
    "test_losses = []\n",
    "train_correct = []\n",
    "test_correct = []\n",
    "\n",
    "\n",
    "for i in range(epochs):\n",
    "    trn_corr = 0 \n",
    "    tst_corr = 0\n",
    "    for b, (X_train, y_train) in enumerate(train_loader):\n",
    "        b += 1\n",
    "\n",
    "        # Forward pass\n",
    "        y_pred = model(X_train)\n",
    "\n",
    "        # Compute loss\n",
    "        loss = criterion(y_pred, y_train)\n",
    "\n",
    "        predicted = torch.max(y_pred.data, dim=1)[1]\n",
    "        batch_corr = (predicted == y_train).sum()\n",
    "        trn_corr += batch_corr\n",
    "\n",
    "        optimizer.zero_grad()\n",
    "        loss.backward()\n",
    "        optimizer.step()\n",
    "\n",
    "        if b%600 == 0:\n",
    "            print(f'Epoch: {i} | Batch: {b} | Loss: {loss.item():.4f}')\n",
    "    \n",
    "    train_losses.append(loss)\n",
    "    train_correct.append(trn_corr)\n",
    "\n",
    "    #test\n",
    "    with torch.no_grad():\n",
    "        for b, (X_test, y_test) in enumerate(test_loader):\n",
    "            y_val = model(X_test)\n",
    "\n",
    "            predicted = torch.max(y_val.data, dim=1)[1]\n",
    "            tst_corr += (predicted == y_test).sum()\n",
    "    \n",
    "    loss = criterion(y_val, y_test)\n",
    "    test_losses.append(loss)\n",
    "    test_correct.append(tst_corr)\n",
    "    \n"
   ]
  },
  {
   "cell_type": "code",
   "execution_count": 144,
   "metadata": {},
   "outputs": [
    {
     "data": {
      "text/plain": [
       "<matplotlib.legend.Legend at 0x2161248a9e0>"
      ]
     },
     "execution_count": 144,
     "metadata": {},
     "output_type": "execute_result"
    },
    {
     "data": {
      "image/png": "[encoded data removed]",
      "text/plain": [
       "<Figure size 640x480 with 1 Axes>"
      ]
     },
     "metadata": {},
     "output_type": "display_data"
    }
   ],
   "source": [
    "\n",
    "# Graph the loss at epoch\n",
    "train_losses = [tl.item() for tl in train_losses]\n",
    "plt.plot(train_losses, label=\"Training Loss\")\n",
    "plt.plot(test_losses, label=\"Validation Loss\")\n",
    "plt.title(\"Loss at Epoch\")\n",
    "plt.legend()"
   ]
  },
  {
   "cell_type": "code",
   "execution_count": 145,
   "metadata": {},
   "outputs": [
    {
     "data": {
      "text/plain": [
       "<matplotlib.legend.Legend at 0x216128fb100>"
      ]
     },
     "execution_count": 145,
     "metadata": {},
     "output_type": "execute_result"
    },
    {
     "data": {
      "image/png": "[encoded data removed]",
      "text/plain": [
       "<Figure size 640x480 with 1 Axes>"
      ]
     },
     "metadata": {},
     "output_type": "display_data"
    }
   ],
   "source": [
    "\n",
    "# graph the accuracy at the end of each epoch\n",
    "plt.plot([t/600 for t in train_correct], label=\"Training Accuracy\")\n",
    "plt.plot([t/100 for t in test_correct], label=\"Validation Accuracy\")\n",
    "plt.title(\"Accuracy at the end of each Epoch\")\n",
    "plt.legend()"
   ]
  },
  {
   "cell_type": "code",
   "execution_count": 146,
   "metadata": {},
   "outputs": [],
   "source": [
    "test_load_everything = DataLoader(test_data, batch_size=10000, shuffle=False)\n"
   ]
  },
  {
   "cell_type": "code",
   "execution_count": 147,
   "metadata": {},
   "outputs": [],
   "source": [
    "with torch.no_grad():\n",
    "  correct = 0\n",
    "  for X_test, y_test in test_load_everything:\n",
    "    y_val = model(X_test)\n",
    "    predicted = torch.max(y_val, 1)[1]\n",
    "    correct += (predicted == y_test).sum()"
   ]
  },
  {
   "cell_type": "code",
   "execution_count": 148,
   "metadata": {},
   "outputs": [
    {
     "data": {
      "text/plain": [
       "98.72999999999999"
      ]
     },
     "execution_count": 148,
     "metadata": {},
     "output_type": "execute_result"
    }
   ],
   "source": [
    "\n",
    "# Did for correct\n",
    "correct.item()/len(test_data)*100"
   ]
  },
  {
   "cell_type": "code",
   "execution_count": 157,
   "metadata": {},
   "outputs": [
    {
     "data": {
      "text/plain": [
       "6"
      ]
     },
     "execution_count": 157,
     "metadata": {},
     "output_type": "execute_result"
    }
   ],
   "source": [
    "test_data[2000][1]"
   ]
  },
  {
   "cell_type": "code",
   "execution_count": 158,
   "metadata": {},
   "outputs": [
    {
     "data": {
      "text/plain": [
       "<matplotlib.image.AxesImage at 0x216206b3af0>"
      ]
     },
     "execution_count": 158,
     "metadata": {},
     "output_type": "execute_result"
    },
    {
     "data": {
      "image/png": "[encoded data removed]",
      "text/plain": [
       "<Figure size 640x480 with 1 Axes>"
      ]
     },
     "metadata": {},
     "output_type": "display_data"
    }
   ],
   "source": [
    "plt.imshow(test_data[2000][0].reshape(28,28))"
   ]
  },
  {
   "cell_type": "code",
   "execution_count": 159,
   "metadata": {},
   "outputs": [],
   "source": [
    "import torch\n",
    "model.eval()\n",
    "with torch.no_grad():\n",
    "    new_prediction = model(test_data[2000][0])"
   ]
  },
  {
   "cell_type": "code",
   "execution_count": 160,
   "metadata": {},
   "outputs": [
    {
     "data": {
      "text/plain": [
       "tensor(6)"
      ]
     },
     "execution_count": 160,
     "metadata": {},
     "output_type": "execute_result"
    }
   ],
   "source": [
    "new_prediction.argmax()"
   ]
  }
 ],
 "metadata": {
  "kernelspec": {
   "display_name": "pytorch",
   "language": "python",
   "name": "python3"
  },
  "language_info": {
   "codemirror_mode": {
    "name": "ipython",
    "version": 3
   },
   "file_extension": ".py",
   "mimetype": "text/x-python",
   "name": "python",
   "nbconvert_exporter": "python",
   "pygments_lexer": "ipython3",
   "version": "3.10.7"
  }
 },
 "nbformat": 4,
 "nbformat_minor": 2
}
